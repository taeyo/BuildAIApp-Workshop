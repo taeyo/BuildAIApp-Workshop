{
 "cells": [
  {
   "cell_type": "code",
   "execution_count": 1,
   "metadata": {},
   "outputs": [
    {
     "name": "stdout",
     "output_type": "stream",
     "text": [
      "{\n",
      "  \"text\": \" He was a famous singer and dancer. He was also known as the King of Pop. Michael Jackson was born on August 29, 1958 in Gary, Indiana. His father was a guitarist but he worked in a steel mill to support his family. Michael Jackson had 8 siblings. He was the seventh child of his family. He had 5 brothers and 3 sisters. Michael Jackson was a very talented boy. He started singing when he was only 5 years old. He was the lead singer of the Jackson 5. The Jackson 5 was a group of singers that included Michael Jackson and his brothers. They sang many songs and became very famous. Michael Jackson became a solo singer in 1971. He sang many famous songs such as \\\"Billie Jean\\\", \\\"Beat It\\\", and \\\"Thriller\\\". Michael Jackson was also a very good dancer. He invented a dance called the \\\"moonwalk\\\". He was famous for his moonwalk. Michael Jackson was a very kind\",\n",
      "  \"index\": 0,\n",
      "  \"finish_reason\": \"length\",\n",
      "  \"logprobs\": null,\n",
      "  \"content_filter_results\": {\n",
      "    \"hate\": {\n",
      "      \"filtered\": false,\n",
      "      \"severity\": \"safe\"\n",
      "    },\n",
      "    \"self_harm\": {\n",
      "      \"filtered\": false,\n",
      "      \"severity\": \"safe\"\n",
      "    },\n",
      "    \"sexual\": {\n",
      "      \"filtered\": false,\n",
      "      \"severity\": \"safe\"\n",
      "    },\n",
      "    \"violence\": {\n",
      "      \"filtered\": false,\n",
      "      \"severity\": \"safe\"\n",
      "    }\n",
      "  }\n",
      "}\n"
     ]
    }
   ],
   "source": [
    "import openai\n",
    "\n",
    "openai.api_type = \"azure\"\n",
    "openai.api_base = \"https://apim-taeyokim.azure-api.net\" # APIM URL\n",
    "openai.api_version = \"2023-07-01-preview\"\n",
    "openai.api_key = \"\"  # APIM Subscription Key\n",
    "\n",
    "response = openai.Completion.create(\n",
    "                          engine=\"MyChatGPT\",\n",
    "                          prompt=\"Do you know about Michael Jackson?\",\n",
    "                          temperature=1,\n",
    "                          max_tokens=200,\n",
    "                          top_p=0.5,\n",
    "                          frequency_penalty=0,\n",
    "                          presence_penalty=0,\n",
    "                          stop=None)\n",
    "\n",
    "print(response.choices[0])"
   ]
  }
 ],
 "metadata": {
  "kernelspec": {
   "display_name": "Python 3 (ipykernel)",
   "language": "python",
   "name": "python3"
  },
  "language_info": {
   "codemirror_mode": {
    "name": "ipython",
    "version": 3
   },
   "file_extension": ".py",
   "mimetype": "text/x-python",
   "name": "python",
   "nbconvert_exporter": "python",
   "pygments_lexer": "ipython3",
   "version": "3.11.5"
  }
 },
 "nbformat": 4,
 "nbformat_minor": 2
}
