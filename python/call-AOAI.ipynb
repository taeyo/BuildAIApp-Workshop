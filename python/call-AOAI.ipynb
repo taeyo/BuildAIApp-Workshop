{
 "cells": [
  {
   "cell_type": "code",
   "execution_count": 8,
   "metadata": {},
   "outputs": [
    {
     "name": "stdout",
     "output_type": "stream",
     "text": [
      " This is the question that always comes up as the holiday approaches. Chuseok is one of the biggest holidays in Korea and is celebrated by everyone. During this time, Koreans travel back to their hometowns to spend time with their families. However, if you’re not Korean and don’t have a family here, what can you do? Well, don’t worry, there are still plenty of things to do in Korea during Chuseok.\n",
      "\n",
      "1. Go to a Theme Park\n",
      "\n",
      "Theme parks are a great place to go during Chuseok. Since many Koreans are traveling to their hometowns, theme parks are less crowded than usual. This means that you can enjoy the rides and attractions without having to wait in long lines. Some of the most popular theme parks in Korea include Everland, Lotte World, and Seoul Land.\n",
      "\n",
      "2. Visit a Museum\n",
      "\n",
      "If you’re interested in Korean history and culture, Chuseok is a great time to visit a museum. Many museums have special exhibitions\n"
     ]
    }
   ],
   "source": [
    "import openai\n",
    "\n",
    "openai.api_type = \"azure\"\n",
    "openai.api_base = \"https://aoai-svc-taeyok.openai.azure.com\"    # AOAI URL\n",
    "openai.api_version = \"2023-07-01-preview\"\n",
    "openai.api_key = \"\"     #Azure OpenAI Service Key\n",
    "\n",
    "response = openai.Completion.create(\n",
    "                          engine=\"MyChatGPT\",\n",
    "                          prompt=\"What should I do for this Christmas?\",\n",
    "                          temperature=1,\n",
    "                          max_tokens=200,\n",
    "                          top_p=0.5,\n",
    "                          frequency_penalty=0,\n",
    "                          presence_penalty=0,\n",
    "                          stop=None)\n",
    "\n",
    "print(response.choices[0].text)"
   ]
  }
 ],
 "metadata": {
  "kernelspec": {
   "display_name": "Python 3 (ipykernel)",
   "language": "python",
   "name": "python3"
  },
  "language_info": {
   "codemirror_mode": {
    "name": "ipython",
    "version": 3
   },
   "file_extension": ".py",
   "mimetype": "text/x-python",
   "name": "python",
   "nbconvert_exporter": "python",
   "pygments_lexer": "ipython3",
   "version": "3.11.6"
  }
 },
 "nbformat": 4,
 "nbformat_minor": 2
}
